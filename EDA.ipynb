{
 "cells": [
  {
   "cell_type": "markdown",
   "id": "b351e1e1",
   "metadata": {},
   "source": [
    "# Oil Well Project"
   ]
  },
  {
   "cell_type": "markdown",
   "id": "fb2e3239",
   "metadata": {},
   "source": [
    "## Preparing Data"
   ]
  },
  {
   "cell_type": "code",
   "execution_count": 1,
   "id": "768de6a2",
   "metadata": {},
   "outputs": [],
   "source": [
    "# imports\n",
    "import numpy as np\n",
    "import pandas as pd\n",
    "from sklearn.model_selection import train_test_split, RandomizedSearchCV, cross_val_score\n",
    "from sklearn.preprocessing import StandardScaler, LabelEncoder, OneHotEncoder\n",
    "from sklearn.metrics import accuracy_score,  roc_auc_score, roc_curve\n",
    "from sklearn.model_selection import GridSearchCV\n",
    "from sklearn.linear_model import LinearRegression\n",
    "from sklearn.tree import DecisionTreeClassifier\n",
    "from sklearn.metrics import classification_report, accuracy_score, precision_score, recall_score, f1_score, roc_auc_score, root_mean_squared_error\n",
    "import plotly.express as px\n",
    "from sklearn.neighbors import NearestNeighbors\n",
    "from sklearn.compose import ColumnTransformer\n",
    "from sklearn.pipeline import Pipeline"
   ]
  },
  {
   "cell_type": "markdown",
   "id": "2b4f0465",
   "metadata": {},
   "source": [
    "All needed imports"
   ]
  },
  {
   "cell_type": "code",
   "execution_count": 2,
   "id": "b30c8888",
   "metadata": {},
   "outputs": [],
   "source": [
    "data0 = pd.read_csv(r\"C:\\Users\\alexi\\Desktop\\Coding Projects\\Oil-Well-Project\\Oil-well-Project\\geo_data_0.csv\")\n",
    "data1 = pd.read_csv(r\"C:\\Users\\alexi\\Desktop\\Coding Projects\\Oil-Well-Project\\Oil-well-Project\\geo_data_1.csv\")\n",
    "data2 = pd.read_csv(r\"C:\\Users\\alexi\\Desktop\\Coding Projects\\Oil-Well-Project\\Oil-well-Project\\geo_data_2.csv\")"
   ]
  },
  {
   "cell_type": "markdown",
   "id": "19f532d3",
   "metadata": {},
   "source": [
    "CSV files"
   ]
  },
  {
   "cell_type": "code",
   "execution_count": 3,
   "id": "6d762a8a",
   "metadata": {},
   "outputs": [
    {
     "name": "stdout",
     "output_type": "stream",
     "text": [
      "<class 'pandas.core.frame.DataFrame'>\n",
      "RangeIndex: 100000 entries, 0 to 99999\n",
      "Data columns (total 5 columns):\n",
      " #   Column   Non-Null Count   Dtype  \n",
      "---  ------   --------------   -----  \n",
      " 0   id       100000 non-null  object \n",
      " 1   f0       100000 non-null  float64\n",
      " 2   f1       100000 non-null  float64\n",
      " 3   f2       100000 non-null  float64\n",
      " 4   product  100000 non-null  float64\n",
      "dtypes: float64(4), object(1)\n",
      "memory usage: 3.8+ MB\n",
      "<class 'pandas.core.frame.DataFrame'>\n",
      "RangeIndex: 100000 entries, 0 to 99999\n",
      "Data columns (total 5 columns):\n",
      " #   Column   Non-Null Count   Dtype  \n",
      "---  ------   --------------   -----  \n",
      " 0   id       100000 non-null  object \n",
      " 1   f0       100000 non-null  float64\n",
      " 2   f1       100000 non-null  float64\n",
      " 3   f2       100000 non-null  float64\n",
      " 4   product  100000 non-null  float64\n",
      "dtypes: float64(4), object(1)\n",
      "memory usage: 3.8+ MB\n",
      "<class 'pandas.core.frame.DataFrame'>\n",
      "RangeIndex: 100000 entries, 0 to 99999\n",
      "Data columns (total 5 columns):\n",
      " #   Column   Non-Null Count   Dtype  \n",
      "---  ------   --------------   -----  \n",
      " 0   id       100000 non-null  object \n",
      " 1   f0       100000 non-null  float64\n",
      " 2   f1       100000 non-null  float64\n",
      " 3   f2       100000 non-null  float64\n",
      " 4   product  100000 non-null  float64\n",
      "dtypes: float64(4), object(1)\n",
      "memory usage: 3.8+ MB\n"
     ]
    }
   ],
   "source": [
    "data0.info()\n",
    "data1.info()\n",
    "data2.info()"
   ]
  },
  {
   "cell_type": "code",
   "execution_count": 4,
   "id": "f5b9dfbe",
   "metadata": {},
   "outputs": [
    {
     "data": {
      "text/plain": [
       "np.int64(0)"
      ]
     },
     "execution_count": 4,
     "metadata": {},
     "output_type": "execute_result"
    }
   ],
   "source": [
    "data0.duplicated().sum()"
   ]
  },
  {
   "cell_type": "code",
   "execution_count": 5,
   "id": "b9142b67",
   "metadata": {},
   "outputs": [
    {
     "data": {
      "text/plain": [
       "np.int64(0)"
      ]
     },
     "execution_count": 5,
     "metadata": {},
     "output_type": "execute_result"
    }
   ],
   "source": [
    "data1.duplicated().sum()"
   ]
  },
  {
   "cell_type": "code",
   "execution_count": 6,
   "id": "5146c91a",
   "metadata": {},
   "outputs": [
    {
     "data": {
      "text/plain": [
       "np.int64(0)"
      ]
     },
     "execution_count": 6,
     "metadata": {},
     "output_type": "execute_result"
    }
   ],
   "source": [
    "data2.duplicated().sum()"
   ]
  },
  {
   "cell_type": "markdown",
   "id": "3ef03eeb",
   "metadata": {},
   "source": [
    "all 3 data frames are not missing any values or have any duplicate rows"
   ]
  },
  {
   "cell_type": "markdown",
   "id": "9edf3349",
   "metadata": {},
   "source": [
    "## Train and Test Models"
   ]
  },
  {
   "cell_type": "code",
   "execution_count": 7,
   "id": "fb363556",
   "metadata": {},
   "outputs": [
    {
     "data": {
      "text/plain": [
       "{'data0': {'Train': (75000, 5), 'Val': (25000, 5)},\n",
       " 'data1': {'Train': (75000, 5), 'Val': (25000, 5)},\n",
       " 'data2': {'Train': (75000, 5), 'Val': (25000, 5)}}"
      ]
     },
     "execution_count": 7,
     "metadata": {},
     "output_type": "execute_result"
    }
   ],
   "source": [
    "# Split data Into Training and Validation\n",
    "data0_train, data0_val = train_test_split(data0, test_size=0.25, random_state=50)\n",
    "data1_train, data1_val = train_test_split(data1, test_size=0.25, random_state=50)\n",
    "data2_train, data2_val = train_test_split(data2, test_size=0.25, random_state=50)\n",
    "\n",
    "# Print Results\n",
    "{\n",
    "    \"data0\": {\"Train\": data0_train.shape, \"Val\": data0_val.shape},\n",
    "    \"data1\": {\"Train\": data1_train.shape, \"Val\": data1_val.shape},\n",
    "    \"data2\": {\"Train\": data2_train.shape, \"Val\": data2_val.shape}\n",
    "}\n"
   ]
  },
  {
   "cell_type": "markdown",
   "id": "0a9c7ac1",
   "metadata": {},
   "source": [
    "a 75/25 training/validation split on all 3 datasets"
   ]
  },
  {
   "cell_type": "code",
   "execution_count": 8,
   "id": "cfcf39dd",
   "metadata": {},
   "outputs": [
    {
     "data": {
      "text/plain": [
       "{'data0': {'mse': 37.596556043309086},\n",
       " 'data1': {'mse': 0.8941004282530967},\n",
       " 'data2': {'mse': 40.11354754639584}}"
      ]
     },
     "execution_count": 8,
     "metadata": {},
     "output_type": "execute_result"
    }
   ],
   "source": [
    "# Fucntion to train linear regression model\n",
    "def train_and_predict_linear(train_df, val_df):\n",
    "    x_train = train_df[['f0', 'f1', 'f2']]\n",
    "    y_train = train_df[['product']]\n",
    "    x_val = val_df[['f0', 'f1', 'f2']]\n",
    "    y_val = val_df[['product']]\n",
    "\n",
    "    model = LinearRegression()\n",
    "    model.fit(x_train, y_train)\n",
    "    predict = model.predict(x_val)\n",
    "    mse = root_mean_squared_error(y_val, predict)\n",
    "\n",
    "    return predict, mse\n",
    "\n",
    "# Train and predict With Linear Regression\n",
    "pred0, mse0 = train_and_predict_linear(data0_train, data0_val)\n",
    "pred1, mse1 = train_and_predict_linear(data1_train, data1_val)\n",
    "pred2, mse2 = train_and_predict_linear(data2_train, data2_val)\n",
    "\n",
    "# Print Results\n",
    "{\n",
    "    \"data0\": {\"mse\": mse0},\n",
    "    \"data1\": {\"mse\": mse1},\n",
    "    \"data2\": {\"mse\": mse2} \n",
    "}"
   ]
  },
  {
   "cell_type": "code",
   "execution_count": 9,
   "id": "1c76842f",
   "metadata": {},
   "outputs": [],
   "source": [
    "# Add predictions to the validation sets\n",
    "data0_val_results = data0_val.copy()\n",
    "data0_val_results['predicted_product'] = pred0\n",
    "\n",
    "data1_val_results = data1_val.copy()\n",
    "data1_val_results['predicted_product'] = pred1\n",
    "\n",
    "data2_val_results = data2_val.copy()\n",
    "data2_val_results['predicted_product'] = pred2\n"
   ]
  },
  {
   "cell_type": "code",
   "execution_count": 10,
   "id": "11f86ab3",
   "metadata": {},
   "outputs": [
    {
     "data": {
      "text/html": [
       "<div>\n",
       "<style scoped>\n",
       "    .dataframe tbody tr th:only-of-type {\n",
       "        vertical-align: middle;\n",
       "    }\n",
       "\n",
       "    .dataframe tbody tr th {\n",
       "        vertical-align: top;\n",
       "    }\n",
       "\n",
       "    .dataframe thead th {\n",
       "        text-align: right;\n",
       "    }\n",
       "</style>\n",
       "<table border=\"1\" class=\"dataframe\">\n",
       "  <thead>\n",
       "    <tr style=\"text-align: right;\">\n",
       "      <th></th>\n",
       "      <th>id</th>\n",
       "      <th>f0</th>\n",
       "      <th>f1</th>\n",
       "      <th>f2</th>\n",
       "      <th>product</th>\n",
       "      <th>predicted_product</th>\n",
       "    </tr>\n",
       "  </thead>\n",
       "  <tbody>\n",
       "    <tr>\n",
       "      <th>35363</th>\n",
       "      <td>9xDYu</td>\n",
       "      <td>-0.029148</td>\n",
       "      <td>0.933851</td>\n",
       "      <td>0.960092</td>\n",
       "      <td>97.109002</td>\n",
       "      <td>70.752036</td>\n",
       "    </tr>\n",
       "    <tr>\n",
       "      <th>43649</th>\n",
       "      <td>4ZV4Z</td>\n",
       "      <td>1.038490</td>\n",
       "      <td>-0.441222</td>\n",
       "      <td>1.267050</td>\n",
       "      <td>132.860001</td>\n",
       "      <td>96.184940</td>\n",
       "    </tr>\n",
       "    <tr>\n",
       "      <th>60832</th>\n",
       "      <td>7fGVJ</td>\n",
       "      <td>1.897318</td>\n",
       "      <td>-0.250727</td>\n",
       "      <td>1.956568</td>\n",
       "      <td>168.469937</td>\n",
       "      <td>101.249241</td>\n",
       "    </tr>\n",
       "    <tr>\n",
       "      <th>37399</th>\n",
       "      <td>qOp82</td>\n",
       "      <td>0.827823</td>\n",
       "      <td>-0.508357</td>\n",
       "      <td>3.058204</td>\n",
       "      <td>93.967682</td>\n",
       "      <td>108.201838</td>\n",
       "    </tr>\n",
       "    <tr>\n",
       "      <th>61034</th>\n",
       "      <td>DCX28</td>\n",
       "      <td>1.328177</td>\n",
       "      <td>-0.332757</td>\n",
       "      <td>-4.286053</td>\n",
       "      <td>106.358376</td>\n",
       "      <td>58.985978</td>\n",
       "    </tr>\n",
       "  </tbody>\n",
       "</table>\n",
       "</div>"
      ],
      "text/plain": [
       "          id        f0        f1        f2     product  predicted_product\n",
       "35363  9xDYu -0.029148  0.933851  0.960092   97.109002          70.752036\n",
       "43649  4ZV4Z  1.038490 -0.441222  1.267050  132.860001          96.184940\n",
       "60832  7fGVJ  1.897318 -0.250727  1.956568  168.469937         101.249241\n",
       "37399  qOp82  0.827823 -0.508357  3.058204   93.967682         108.201838\n",
       "61034  DCX28  1.328177 -0.332757 -4.286053  106.358376          58.985978"
      ]
     },
     "execution_count": 10,
     "metadata": {},
     "output_type": "execute_result"
    }
   ],
   "source": [
    "data0_val_results.head()"
   ]
  },
  {
   "cell_type": "code",
   "execution_count": 11,
   "id": "b42a67fc",
   "metadata": {},
   "outputs": [
    {
     "data": {
      "text/html": [
       "<div>\n",
       "<style scoped>\n",
       "    .dataframe tbody tr th:only-of-type {\n",
       "        vertical-align: middle;\n",
       "    }\n",
       "\n",
       "    .dataframe tbody tr th {\n",
       "        vertical-align: top;\n",
       "    }\n",
       "\n",
       "    .dataframe thead th {\n",
       "        text-align: right;\n",
       "    }\n",
       "</style>\n",
       "<table border=\"1\" class=\"dataframe\">\n",
       "  <thead>\n",
       "    <tr style=\"text-align: right;\">\n",
       "      <th></th>\n",
       "      <th>id</th>\n",
       "      <th>f0</th>\n",
       "      <th>f1</th>\n",
       "      <th>f2</th>\n",
       "      <th>product</th>\n",
       "      <th>predicted_product</th>\n",
       "    </tr>\n",
       "  </thead>\n",
       "  <tbody>\n",
       "    <tr>\n",
       "      <th>35363</th>\n",
       "      <td>i20Ym</td>\n",
       "      <td>-11.833189</td>\n",
       "      <td>-2.478573</td>\n",
       "      <td>4.000121</td>\n",
       "      <td>110.992147</td>\n",
       "      <td>111.230660</td>\n",
       "    </tr>\n",
       "    <tr>\n",
       "      <th>43649</th>\n",
       "      <td>5EZpz</td>\n",
       "      <td>-14.822505</td>\n",
       "      <td>-11.935498</td>\n",
       "      <td>4.998859</td>\n",
       "      <td>137.945408</td>\n",
       "      <td>138.782825</td>\n",
       "    </tr>\n",
       "    <tr>\n",
       "      <th>60832</th>\n",
       "      <td>Bd1bL</td>\n",
       "      <td>-3.514141</td>\n",
       "      <td>-1.983008</td>\n",
       "      <td>2.002521</td>\n",
       "      <td>57.085625</td>\n",
       "      <td>56.176671</td>\n",
       "    </tr>\n",
       "    <tr>\n",
       "      <th>37399</th>\n",
       "      <td>YrgDZ</td>\n",
       "      <td>7.398975</td>\n",
       "      <td>-6.882181</td>\n",
       "      <td>2.000820</td>\n",
       "      <td>53.906522</td>\n",
       "      <td>54.653156</td>\n",
       "    </tr>\n",
       "    <tr>\n",
       "      <th>61034</th>\n",
       "      <td>XJHt1</td>\n",
       "      <td>7.447826</td>\n",
       "      <td>-6.047519</td>\n",
       "      <td>5.003255</td>\n",
       "      <td>134.766305</td>\n",
       "      <td>135.546890</td>\n",
       "    </tr>\n",
       "  </tbody>\n",
       "</table>\n",
       "</div>"
      ],
      "text/plain": [
       "          id         f0         f1        f2     product  predicted_product\n",
       "35363  i20Ym -11.833189  -2.478573  4.000121  110.992147         111.230660\n",
       "43649  5EZpz -14.822505 -11.935498  4.998859  137.945408         138.782825\n",
       "60832  Bd1bL  -3.514141  -1.983008  2.002521   57.085625          56.176671\n",
       "37399  YrgDZ   7.398975  -6.882181  2.000820   53.906522          54.653156\n",
       "61034  XJHt1   7.447826  -6.047519  5.003255  134.766305         135.546890"
      ]
     },
     "execution_count": 11,
     "metadata": {},
     "output_type": "execute_result"
    }
   ],
   "source": [
    "data1_val_results.head()"
   ]
  },
  {
   "cell_type": "code",
   "execution_count": 12,
   "id": "f79d1a08",
   "metadata": {},
   "outputs": [
    {
     "data": {
      "text/html": [
       "<div>\n",
       "<style scoped>\n",
       "    .dataframe tbody tr th:only-of-type {\n",
       "        vertical-align: middle;\n",
       "    }\n",
       "\n",
       "    .dataframe tbody tr th {\n",
       "        vertical-align: top;\n",
       "    }\n",
       "\n",
       "    .dataframe thead th {\n",
       "        text-align: right;\n",
       "    }\n",
       "</style>\n",
       "<table border=\"1\" class=\"dataframe\">\n",
       "  <thead>\n",
       "    <tr style=\"text-align: right;\">\n",
       "      <th></th>\n",
       "      <th>id</th>\n",
       "      <th>f0</th>\n",
       "      <th>f1</th>\n",
       "      <th>f2</th>\n",
       "      <th>product</th>\n",
       "      <th>predicted_product</th>\n",
       "    </tr>\n",
       "  </thead>\n",
       "  <tbody>\n",
       "    <tr>\n",
       "      <th>35363</th>\n",
       "      <td>znjYt</td>\n",
       "      <td>0.071207</td>\n",
       "      <td>-0.477391</td>\n",
       "      <td>0.923855</td>\n",
       "      <td>71.624696</td>\n",
       "      <td>85.917109</td>\n",
       "    </tr>\n",
       "    <tr>\n",
       "      <th>43649</th>\n",
       "      <td>FmEYX</td>\n",
       "      <td>2.080727</td>\n",
       "      <td>-0.571323</td>\n",
       "      <td>-3.767611</td>\n",
       "      <td>61.753176</td>\n",
       "      <td>58.990207</td>\n",
       "    </tr>\n",
       "    <tr>\n",
       "      <th>60832</th>\n",
       "      <td>FBauH</td>\n",
       "      <td>-0.351986</td>\n",
       "      <td>-1.990903</td>\n",
       "      <td>1.019369</td>\n",
       "      <td>44.838522</td>\n",
       "      <td>86.412142</td>\n",
       "    </tr>\n",
       "    <tr>\n",
       "      <th>37399</th>\n",
       "      <td>JUiit</td>\n",
       "      <td>0.291070</td>\n",
       "      <td>-0.278772</td>\n",
       "      <td>7.977529</td>\n",
       "      <td>54.966447</td>\n",
       "      <td>126.423389</td>\n",
       "    </tr>\n",
       "    <tr>\n",
       "      <th>61034</th>\n",
       "      <td>G8Xz0</td>\n",
       "      <td>0.225914</td>\n",
       "      <td>1.396970</td>\n",
       "      <td>4.466413</td>\n",
       "      <td>35.103100</td>\n",
       "      <td>106.320373</td>\n",
       "    </tr>\n",
       "  </tbody>\n",
       "</table>\n",
       "</div>"
      ],
      "text/plain": [
       "          id        f0        f1        f2    product  predicted_product\n",
       "35363  znjYt  0.071207 -0.477391  0.923855  71.624696          85.917109\n",
       "43649  FmEYX  2.080727 -0.571323 -3.767611  61.753176          58.990207\n",
       "60832  FBauH -0.351986 -1.990903  1.019369  44.838522          86.412142\n",
       "37399  JUiit  0.291070 -0.278772  7.977529  54.966447         126.423389\n",
       "61034  G8Xz0  0.225914  1.396970  4.466413  35.103100         106.320373"
      ]
     },
     "execution_count": 12,
     "metadata": {},
     "output_type": "execute_result"
    }
   ],
   "source": [
    "data2_val_results.head()"
   ]
  },
  {
   "cell_type": "markdown",
   "id": "7ff12a68",
   "metadata": {},
   "source": [
    "I had all 3 datasets predict on linear regression and copied their results to 3 new data sets"
   ]
  },
  {
   "cell_type": "code",
   "execution_count": 13,
   "id": "530290f7",
   "metadata": {},
   "outputs": [
    {
     "data": {
      "text/plain": [
       "{'data0': {'average_predicted_volume': np.float64(92.47214029036599),\n",
       "  'rsme': 37.596556043309086},\n",
       " 'data1': {'average_predicted_volume': np.float64(69.36937867411355),\n",
       "  'rsme': 0.8941004282530967},\n",
       " 'data2': {'average_predicted_volume': np.float64(94.909684188557),\n",
       "  'rsme': 40.11354754639584}}"
      ]
     },
     "execution_count": 13,
     "metadata": {},
     "output_type": "execute_result"
    }
   ],
   "source": [
    "# Average Volumes and RSME\n",
    "results_summary = {\n",
    "    \"data0\": {\n",
    "        \"average_predicted_volume\": np.mean(pred0),\n",
    "        \"rsme\": root_mean_squared_error(data0_val['product'], pred0)\n",
    "\n",
    "    },\n",
    "    \"data1\": {\n",
    "        \"average_predicted_volume\": np.mean(pred1),\n",
    "        \"rsme\": root_mean_squared_error(data1_val['product'], pred1)\n",
    "    },\n",
    "\n",
    "    \"data2\": {\n",
    "        \"average_predicted_volume\": np.mean(pred2),\n",
    "        \"rsme\": root_mean_squared_error(data2_val['product'], pred2)\n",
    "    }\n",
    "}\n",
    "\n",
    "results_summary"
   ]
  },
  {
   "cell_type": "markdown",
   "id": "723a64cd",
   "metadata": {},
   "source": [
    "Ive found the average volumes and predicted reserves for the 3 models and that has offered us some insight. data0 shows moderate error at 36.63 rsme, data1 shows an excellent performance at .89 rsme, and finally data2 shows the worst rsme at 40.15. linear works great on data 1 however the rest dont perform as well. each region from data 0, 1, and 2 has a average predicted volume of 92.40, 68.14, 94.77 respectively and offer insight to 'typical product' values. It might be a good idea to work data0 and data 2 on a more complex model but for now this is what we will work with."
   ]
  },
  {
   "cell_type": "markdown",
   "id": "7d811b5e",
   "metadata": {},
   "source": [
    "## Profit Calculation"
   ]
  },
  {
   "cell_type": "code",
   "execution_count": 23,
   "id": "9372b7bb",
   "metadata": {},
   "outputs": [
    {
     "data": {
      "text/plain": [
       "22222.222222222223"
      ]
     },
     "execution_count": 23,
     "metadata": {},
     "output_type": "execute_result"
    }
   ],
   "source": [
    "reserves_needed = 100000000/4500\n",
    "reserves_needed"
   ]
  },
  {
   "cell_type": "code",
   "execution_count": 24,
   "id": "d8357f1f",
   "metadata": {},
   "outputs": [
    {
     "data": {
      "text/plain": [
       "111.11111111111111"
      ]
     },
     "execution_count": 24,
     "metadata": {},
     "output_type": "execute_result"
    }
   ],
   "source": [
    "reserves_per_well = reserves_needed / 200\n",
    "reserves_per_well"
   ]
  },
  {
   "cell_type": "markdown",
   "id": "7f359ec5",
   "metadata": {},
   "source": [
    "This is the target at least 111.11 (thousand) avg reserves to be profitable"
   ]
  },
  {
   "cell_type": "code",
   "execution_count": 14,
   "id": "5cd13d0a",
   "metadata": {},
   "outputs": [],
   "source": [
    "# Get top 200 indices from predictions\n",
    "top_200_idx0 = np.argsort(pred0.astype(float))[-200:][::-1]\n",
    "top_200_idx1 = np.argsort(pred1.astype(float))[-200:][::-1]\n",
    "top_200_idx2 = np.argsort(pred2.astype(float))[-200:][::-1]\n"
   ]
  },
  {
   "cell_type": "code",
   "execution_count": 15,
   "id": "c39099d8",
   "metadata": {},
   "outputs": [],
   "source": [
    "# Get top 200 predictions and corresponding true values\n",
    "top_200_pred0 = pred0[top_200_idx0]\n",
    "top_200_true0 = data0_val['product'].values[top_200_idx0]\n",
    "\n",
    "top_200_pred1 = pred1[top_200_idx1]\n",
    "top_200_true1 = data1_val['product'].values[top_200_idx1]\n",
    "\n",
    "top_200_pred2 = pred2[top_200_idx2]\n",
    "top_200_true2 = data2_val['product'].values[top_200_idx2]"
   ]
  },
  {
   "cell_type": "markdown",
   "id": "a7e01dc8",
   "metadata": {},
   "source": [
    "Sorted and got the top 200 candidates for calculations"
   ]
  },
  {
   "cell_type": "code",
   "execution_count": 16,
   "id": "a3f395b1",
   "metadata": {},
   "outputs": [],
   "source": [
    "# ravel data for rmse\n",
    "top_200_true0 = top_200_true0.ravel()\n",
    "top_200_pred0 = top_200_pred0.ravel()\n",
    "top_200_true1 = top_200_true1.ravel()\n",
    "top_200_pred1 = top_200_pred1.ravel()\n",
    "top_200_true2 = top_200_true2.ravel()\n",
    "top_200_pred2 = top_200_pred2.ravel()\n",
    "# Compute averages and RMSE\n",
    "average_top_200_pred0 = np.mean(top_200_pred0)\n",
    "average_top_200_pred1 = np.mean(top_200_pred1)\n",
    "average_top_200_pred2 = np.mean(top_200_pred2)\n",
    "\n",
    "rmse_top_200_pred0 = root_mean_squared_error(top_200_true0, top_200_pred0)\n",
    "rmse_top_200_pred1 = root_mean_squared_error(top_200_true1, top_200_pred1)\n",
    "rmse_top_200_pred2 = root_mean_squared_error(top_200_true2, top_200_pred2)"
   ]
  },
  {
   "cell_type": "code",
   "execution_count": 17,
   "id": "fb9ff9f5",
   "metadata": {},
   "outputs": [
    {
     "data": {
      "text/plain": [
       "np.float64(70.75203626074905)"
      ]
     },
     "execution_count": 17,
     "metadata": {},
     "output_type": "execute_result"
    }
   ],
   "source": [
    "average_top_200_pred0\n"
   ]
  },
  {
   "cell_type": "code",
   "execution_count": 18,
   "id": "ec0c89aa",
   "metadata": {},
   "outputs": [
    {
     "data": {
      "text/plain": [
       "np.float64(111.2306603008724)"
      ]
     },
     "execution_count": 18,
     "metadata": {},
     "output_type": "execute_result"
    }
   ],
   "source": [
    "average_top_200_pred1"
   ]
  },
  {
   "cell_type": "code",
   "execution_count": 19,
   "id": "5f0cac9a",
   "metadata": {},
   "outputs": [
    {
     "data": {
      "text/plain": [
       "np.float64(85.91710895769742)"
      ]
     },
     "execution_count": 19,
     "metadata": {},
     "output_type": "execute_result"
    }
   ],
   "source": [
    "average_top_200_pred2"
   ]
  },
  {
   "cell_type": "code",
   "execution_count": 20,
   "id": "e45a4213",
   "metadata": {},
   "outputs": [
    {
     "data": {
      "text/plain": [
       "26.356966105388775"
      ]
     },
     "execution_count": 20,
     "metadata": {},
     "output_type": "execute_result"
    }
   ],
   "source": [
    "rmse_top_200_pred0"
   ]
  },
  {
   "cell_type": "code",
   "execution_count": 21,
   "id": "42f18e20",
   "metadata": {},
   "outputs": [
    {
     "data": {
      "text/plain": [
       "0.2385135915064325"
      ]
     },
     "execution_count": 21,
     "metadata": {},
     "output_type": "execute_result"
    }
   ],
   "source": [
    "rmse_top_200_pred1"
   ]
  },
  {
   "cell_type": "code",
   "execution_count": 22,
   "id": "7c9473fe",
   "metadata": {},
   "outputs": [
    {
     "data": {
      "text/plain": [
       "14.292412845292148"
      ]
     },
     "execution_count": 22,
     "metadata": {},
     "output_type": "execute_result"
    }
   ],
   "source": [
    "rmse_top_200_pred2"
   ]
  },
  {
   "cell_type": "markdown",
   "id": "0d763ce9",
   "metadata": {},
   "source": [
    "Ive taken to top 200 candidates as we would only consider these in the final evaluation anyway and found their averages and rmse for 0,1, and 2. In the 0 dataset we see 70.75 (thousand) barrels of oil which is under our target and our rmse is at 26% as well not the greatest option. data 1 continues to look very promising with a 111.23 barrels meaning it is over our target and with a rmse of .23% making it an extremelly reliable model. data 2 displays 85 barrels under our target and has a 14% rmse alos making it less reliable."
   ]
  },
  {
   "cell_type": "code",
   "execution_count": 32,
   "id": "60b3a91b",
   "metadata": {},
   "outputs": [],
   "source": [
    "def bootstrap_profit(predictions, true_values, n_iterations=1000, budget_million=100, num_wells=200, revenue_per_unit=4500):\n",
    "\n",
    "    predictions = predictions.ravel()\n",
    "    true_values = true_values.ravel()\n",
    "    n_samples = len(predictions)\n",
    "\n",
    "    cost_per_well = (budget_million * 1_000_000) / num_wells\n",
    "    profits = []\n",
    "\n",
    "    for _ in range(n_iterations):\n",
    "        indices = np.random.choice(n_samples, n_samples, replace=True)\n",
    "        sample_preds = predictions[indices]\n",
    "\n",
    "        avg_volume = sample_preds.mean()\n",
    "        revenue = avg_volume * revenue_per_unit\n",
    "        profit = revenue - cost_per_well\n",
    "        profits.append(profit)\n",
    "\n",
    "    profits = np.array(profits)\n",
    "    mean_profit = np.mean(profits)\n",
    "    conf_interval = np.percentile(profits, [2.5, 97.5])\n",
    "    loss_risk_percent = np.mean(profits < 0) * 100\n",
    "\n",
    "    return mean_profit, conf_interval, loss_risk_percent\n"
   ]
  },
  {
   "cell_type": "code",
   "execution_count": 33,
   "id": "ddaa962e",
   "metadata": {},
   "outputs": [
    {
     "data": {
      "text/plain": [
       "(np.float64(-181615.83682662935),\n",
       " array([-181615.83682663, -181615.83682663]),\n",
       " np.float64(100.0))"
      ]
     },
     "execution_count": 33,
     "metadata": {},
     "output_type": "execute_result"
    }
   ],
   "source": [
    "result_data0 = bootstrap_profit(top_200_pred0, top_200_true0)\n",
    "result_data0"
   ]
  },
  {
   "cell_type": "code",
   "execution_count": 34,
   "id": "6b103cd2",
   "metadata": {},
   "outputs": [
    {
     "data": {
      "text/plain": [
       "(np.float64(537.9713539258228),\n",
       " array([537.97135393, 537.97135393]),\n",
       " np.float64(0.0))"
      ]
     },
     "execution_count": 34,
     "metadata": {},
     "output_type": "execute_result"
    }
   ],
   "source": [
    "result_data1 = bootstrap_profit(top_200_pred1, top_200_true1)\n",
    "result_data1"
   ]
  },
  {
   "cell_type": "code",
   "execution_count": 35,
   "id": "19feacaf",
   "metadata": {},
   "outputs": [
    {
     "data": {
      "text/plain": [
       "(np.float64(-113373.00969036158),\n",
       " array([-113373.00969036, -113373.00969036]),\n",
       " np.float64(100.0))"
      ]
     },
     "execution_count": 35,
     "metadata": {},
     "output_type": "execute_result"
    }
   ],
   "source": [
    "result_data2 = bootstrap_profit(top_200_pred2, top_200_true2)\n",
    "result_data2"
   ]
  },
  {
   "cell_type": "markdown",
   "id": "43701521",
   "metadata": {},
   "source": [
    "I compiled a few steps into this algorithm and ill list what we have here we re printed the avg volume and rmse to have a place that stores all the information in 1 function, we have calculated profit for each region (0 = -181615, 1 = 537, 2 = -113373) showing that our only profitable region is dataset 1. our risk is our bottom number data set 0 and 2 have a 100% risk and 1 has a 0%. a sa result of my findings i would suggest using dataset 1's region as the site for drillign as it is the only profitable site"
   ]
  },
  {
   "cell_type": "markdown",
   "id": "f3ff0183",
   "metadata": {},
   "source": [
    "## Conclusion"
   ]
  },
  {
   "cell_type": "markdown",
   "id": "67d505be",
   "metadata": {},
   "source": [
    "This project aimed to support strategic decision-making in oil well development through data-driven analysis. By leveraging machine learning predictions of oil reserve volumes, combined with financial modeling and risk assessment, we evaluated multiple regions to identify the most promising candidates for investment.\n",
    "\n",
    "Using a combination of RMSE-based risk filtering and bootstrapping for profit estimation, we were able to estimate not only expected returns but also the likelihood of financial loss. This allowed us to recommend the region with the most favorable balance of expected profit and low risk, ensuring smarter capital allocation and improved confidence in development outcomes."
   ]
  },
  {
   "cell_type": "markdown",
   "id": "6c3c9ba1",
   "metadata": {},
   "source": []
  }
 ],
 "metadata": {
  "kernelspec": {
   "display_name": "Python 3",
   "language": "python",
   "name": "python3"
  },
  "language_info": {
   "codemirror_mode": {
    "name": "ipython",
    "version": 3
   },
   "file_extension": ".py",
   "mimetype": "text/x-python",
   "name": "python",
   "nbconvert_exporter": "python",
   "pygments_lexer": "ipython3",
   "version": "3.13.2"
  }
 },
 "nbformat": 4,
 "nbformat_minor": 5
}
