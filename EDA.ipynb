{
 "cells": [
  {
   "cell_type": "markdown",
   "id": "b351e1e1",
   "metadata": {},
   "source": [
    "# Oil Well Project"
   ]
  },
  {
   "cell_type": "markdown",
   "id": "fb2e3239",
   "metadata": {},
   "source": [
    "## Preparing Data"
   ]
  },
  {
   "cell_type": "code",
   "execution_count": 61,
   "id": "768de6a2",
   "metadata": {},
   "outputs": [],
   "source": [
    "# imports\n",
    "import numpy as np\n",
    "import pandas as pd\n",
    "from sklearn.model_selection import train_test_split, RandomizedSearchCV, cross_val_score\n",
    "from sklearn.preprocessing import StandardScaler, LabelEncoder, OneHotEncoder\n",
    "from sklearn.metrics import accuracy_score,  roc_auc_score, roc_curve\n",
    "from sklearn.model_selection import GridSearchCV\n",
    "from sklearn.linear_model import LinearRegression\n",
    "from sklearn.tree import DecisionTreeClassifier\n",
    "from sklearn.metrics import classification_report, accuracy_score, precision_score, recall_score, f1_score, roc_auc_score, root_mean_squared_error\n",
    "import plotly.express as px\n",
    "from sklearn.neighbors import NearestNeighbors\n",
    "from sklearn.compose import ColumnTransformer\n",
    "from sklearn.pipeline import Pipeline"
   ]
  },
  {
   "cell_type": "markdown",
   "id": "2b4f0465",
   "metadata": {},
   "source": [
    "All needed imports"
   ]
  },
  {
   "cell_type": "code",
   "execution_count": 62,
   "id": "b30c8888",
   "metadata": {},
   "outputs": [],
   "source": [
    "data0 = pd.read_csv(r\"C:\\Users\\alexi\\Desktop\\Coding Projects\\Oil-Well-Project\\Oil-well-Project\\geo_data_0.csv\")\n",
    "data1 = pd.read_csv(r\"C:\\Users\\alexi\\Desktop\\Coding Projects\\Oil-Well-Project\\Oil-well-Project\\geo_data_1.csv\")\n",
    "data2 = pd.read_csv(r\"C:\\Users\\alexi\\Desktop\\Coding Projects\\Oil-Well-Project\\Oil-well-Project\\geo_data_2.csv\")"
   ]
  },
  {
   "cell_type": "markdown",
   "id": "19f532d3",
   "metadata": {},
   "source": [
    "CSV files"
   ]
  },
  {
   "cell_type": "code",
   "execution_count": 63,
   "id": "6d762a8a",
   "metadata": {},
   "outputs": [
    {
     "name": "stdout",
     "output_type": "stream",
     "text": [
      "<class 'pandas.core.frame.DataFrame'>\n",
      "RangeIndex: 6250 entries, 0 to 6249\n",
      "Data columns (total 6 columns):\n",
      " #   Column             Non-Null Count  Dtype  \n",
      "---  ------             --------------  -----  \n",
      " 0   id                 6250 non-null   object \n",
      " 1   f0                 6250 non-null   float64\n",
      " 2   f1                 6250 non-null   float64\n",
      " 3   f2                 6250 non-null   float64\n",
      " 4   product            6250 non-null   float64\n",
      " 5   predicted_product  6250 non-null   float64\n",
      "dtypes: float64(5), object(1)\n",
      "memory usage: 293.1+ KB\n",
      "<class 'pandas.core.frame.DataFrame'>\n",
      "RangeIndex: 6250 entries, 0 to 6249\n",
      "Data columns (total 6 columns):\n",
      " #   Column             Non-Null Count  Dtype  \n",
      "---  ------             --------------  -----  \n",
      " 0   id                 6250 non-null   object \n",
      " 1   f0                 6250 non-null   float64\n",
      " 2   f1                 6250 non-null   float64\n",
      " 3   f2                 6250 non-null   float64\n",
      " 4   product            6250 non-null   float64\n",
      " 5   predicted_product  6250 non-null   float64\n",
      "dtypes: float64(5), object(1)\n",
      "memory usage: 293.1+ KB\n",
      "<class 'pandas.core.frame.DataFrame'>\n",
      "RangeIndex: 6250 entries, 0 to 6249\n",
      "Data columns (total 6 columns):\n",
      " #   Column             Non-Null Count  Dtype  \n",
      "---  ------             --------------  -----  \n",
      " 0   id                 6250 non-null   object \n",
      " 1   f0                 6250 non-null   float64\n",
      " 2   f1                 6250 non-null   float64\n",
      " 3   f2                 6250 non-null   float64\n",
      " 4   product            6250 non-null   float64\n",
      " 5   predicted_product  6250 non-null   float64\n",
      "dtypes: float64(5), object(1)\n",
      "memory usage: 293.1+ KB\n"
     ]
    }
   ],
   "source": [
    "data0.info()\n",
    "data1.info()\n",
    "data2.info()"
   ]
  },
  {
   "cell_type": "code",
   "execution_count": 64,
   "id": "f5b9dfbe",
   "metadata": {},
   "outputs": [
    {
     "data": {
      "text/plain": [
       "np.int64(0)"
      ]
     },
     "execution_count": 64,
     "metadata": {},
     "output_type": "execute_result"
    }
   ],
   "source": [
    "data0.duplicated().sum()"
   ]
  },
  {
   "cell_type": "code",
   "execution_count": 65,
   "id": "b9142b67",
   "metadata": {},
   "outputs": [
    {
     "data": {
      "text/plain": [
       "np.int64(0)"
      ]
     },
     "execution_count": 65,
     "metadata": {},
     "output_type": "execute_result"
    }
   ],
   "source": [
    "data1.duplicated().sum()"
   ]
  },
  {
   "cell_type": "code",
   "execution_count": 66,
   "id": "5146c91a",
   "metadata": {},
   "outputs": [
    {
     "data": {
      "text/plain": [
       "np.int64(0)"
      ]
     },
     "execution_count": 66,
     "metadata": {},
     "output_type": "execute_result"
    }
   ],
   "source": [
    "data2.duplicated().sum()"
   ]
  },
  {
   "cell_type": "markdown",
   "id": "3ef03eeb",
   "metadata": {},
   "source": [
    "all 3 data frames are not missing any values or have any duplicate rows"
   ]
  },
  {
   "cell_type": "markdown",
   "id": "9edf3349",
   "metadata": {},
   "source": [
    "# Train and Test Models"
   ]
  },
  {
   "cell_type": "code",
   "execution_count": 67,
   "id": "fb363556",
   "metadata": {},
   "outputs": [
    {
     "data": {
      "text/plain": [
       "{'data0': {'Train': (4687, 6), 'Val': (1563, 6)},\n",
       " 'data1': {'Train': (4687, 6), 'Val': (1563, 6)},\n",
       " 'data2': {'Train': (4687, 6), 'Val': (1563, 6)}}"
      ]
     },
     "execution_count": 67,
     "metadata": {},
     "output_type": "execute_result"
    }
   ],
   "source": [
    "# Split data Into Training and Validation\n",
    "data0_train, data0_val = train_test_split(data0, test_size=0.25, random_state=50)\n",
    "data1_train, data1_val = train_test_split(data1, test_size=0.25, random_state=50)\n",
    "data2_train, data2_val = train_test_split(data2, test_size=0.25, random_state=50)\n",
    "\n",
    "# Print Results\n",
    "{\n",
    "    \"data0\": {\"Train\": data0_train.shape, \"Val\": data0_val.shape},\n",
    "    \"data1\": {\"Train\": data1_train.shape, \"Val\": data1_val.shape},\n",
    "    \"data2\": {\"Train\": data2_train.shape, \"Val\": data2_val.shape}\n",
    "}\n"
   ]
  },
  {
   "cell_type": "markdown",
   "id": "0a9c7ac1",
   "metadata": {},
   "source": [
    "a 75/25 training/validation split on all 3 datasets"
   ]
  },
  {
   "cell_type": "code",
   "execution_count": 68,
   "id": "cfcf39dd",
   "metadata": {},
   "outputs": [
    {
     "data": {
      "text/plain": [
       "{'data0': {'mse': 1342.1088591959174},\n",
       " 'data1': {'mse': 0.7871894002204988},\n",
       " 'data2': {'mse': 1629.7954328349622}}"
      ]
     },
     "execution_count": 68,
     "metadata": {},
     "output_type": "execute_result"
    }
   ],
   "source": [
    "# Fucntion to train linear regression model\n",
    "def train_and_predict_linear(train_df, val_df):\n",
    "    x_train = train_df[['f0', 'f1', 'f2']]\n",
    "    y_train = train_df[['product']]\n",
    "    x_val = val_df[['f0', 'f1', 'f2']]\n",
    "    y_val = val_df[['product']]\n",
    "\n",
    "    model = LinearRegression()\n",
    "    model.fit(x_train, y_train)\n",
    "    predict = model.predict(x_val)\n",
    "    mse = mean_squared_error(y_val, predict)\n",
    "\n",
    "    return predict, mse\n",
    "\n",
    "# Train and predict With Linear Regression\n",
    "pred0, mse0 = train_and_predict_linear(data0_train, data0_val)\n",
    "pred1, mse1 = train_and_predict_linear(data1_train, data1_val)\n",
    "pred2, mse2 = train_and_predict_linear(data2_train, data2_val)\n",
    "\n",
    "# Print Results\n",
    "{\n",
    "    \"data0\": {\"mse\": mse0},\n",
    "    \"data1\": {\"mse\": mse1},\n",
    "    \"data2\": {\"mse\": mse2} \n",
    "}"
   ]
  },
  {
   "cell_type": "code",
   "execution_count": 69,
   "id": "1c76842f",
   "metadata": {},
   "outputs": [
    {
     "data": {
      "text/plain": [
       "['data0_predictions.csv', 'data1_predictions.csv', 'data2_predictions.csv']"
      ]
     },
     "execution_count": 69,
     "metadata": {},
     "output_type": "execute_result"
    }
   ],
   "source": [
    "# Add predictions to the validation sets\n",
    "data0_val_results = data0_val.copy()\n",
    "data0_val_results['predicted_product'] = pred0\n",
    "\n",
    "data1_val_results = data1_val.copy()\n",
    "data1_val_results['predicted_product'] = pred1\n",
    "\n",
    "data2_val_results = data2_val.copy()\n",
    "data2_val_results['predicted_product'] = pred2\n",
    "\n",
    "# Save to CSV files\n",
    "data0_val_results.to_csv(r\"C:\\Users\\alexi\\Desktop\\Coding Projects\\Oil-Well-Project\\Oil-well-Project\\geo_data_0.csv\", index=False)\n",
    "data1_val_results.to_csv(r\"C:\\Users\\alexi\\Desktop\\Coding Projects\\Oil-Well-Project\\Oil-well-Project\\geo_data_1.csv\", index=False)\n",
    "data2_val_results.to_csv(r\"C:\\Users\\alexi\\Desktop\\Coding Projects\\Oil-Well-Project\\Oil-well-Project\\geo_data_2.csv\", index=False)\n",
    "\n",
    "# Return filenames\n",
    "[\n",
    "    \"data0_predictions.csv\",\n",
    "    \"data1_predictions.csv\",\n",
    "    \"data2_predictions.csv\"\n",
    "]\n"
   ]
  },
  {
   "cell_type": "code",
   "execution_count": 70,
   "id": "11f86ab3",
   "metadata": {},
   "outputs": [
    {
     "data": {
      "text/html": [
       "<div>\n",
       "<style scoped>\n",
       "    .dataframe tbody tr th:only-of-type {\n",
       "        vertical-align: middle;\n",
       "    }\n",
       "\n",
       "    .dataframe tbody tr th {\n",
       "        vertical-align: top;\n",
       "    }\n",
       "\n",
       "    .dataframe thead th {\n",
       "        text-align: right;\n",
       "    }\n",
       "</style>\n",
       "<table border=\"1\" class=\"dataframe\">\n",
       "  <thead>\n",
       "    <tr style=\"text-align: right;\">\n",
       "      <th></th>\n",
       "      <th>id</th>\n",
       "      <th>f0</th>\n",
       "      <th>f1</th>\n",
       "      <th>f2</th>\n",
       "      <th>product</th>\n",
       "      <th>predicted_product</th>\n",
       "    </tr>\n",
       "  </thead>\n",
       "  <tbody>\n",
       "    <tr>\n",
       "      <th>1268</th>\n",
       "      <td>WZPDo</td>\n",
       "      <td>-0.326487</td>\n",
       "      <td>0.906874</td>\n",
       "      <td>-0.810567</td>\n",
       "      <td>27.351350</td>\n",
       "      <td>58.080219</td>\n",
       "    </tr>\n",
       "    <tr>\n",
       "      <th>3878</th>\n",
       "      <td>8fDKM</td>\n",
       "      <td>0.115090</td>\n",
       "      <td>0.242267</td>\n",
       "      <td>-1.064132</td>\n",
       "      <td>86.358950</td>\n",
       "      <td>68.327217</td>\n",
       "    </tr>\n",
       "    <tr>\n",
       "      <th>5778</th>\n",
       "      <td>fqOSx</td>\n",
       "      <td>1.044243</td>\n",
       "      <td>-0.373455</td>\n",
       "      <td>0.826999</td>\n",
       "      <td>135.979981</td>\n",
       "      <td>93.476445</td>\n",
       "    </tr>\n",
       "    <tr>\n",
       "      <th>787</th>\n",
       "      <td>LnihI</td>\n",
       "      <td>0.536930</td>\n",
       "      <td>-0.499839</td>\n",
       "      <td>1.585133</td>\n",
       "      <td>101.234625</td>\n",
       "      <td>98.744247</td>\n",
       "    </tr>\n",
       "    <tr>\n",
       "      <th>4849</th>\n",
       "      <td>9Fhwy</td>\n",
       "      <td>-0.066038</td>\n",
       "      <td>0.941207</td>\n",
       "      <td>0.418507</td>\n",
       "      <td>49.847911</td>\n",
       "      <td>66.458058</td>\n",
       "    </tr>\n",
       "  </tbody>\n",
       "</table>\n",
       "</div>"
      ],
      "text/plain": [
       "         id        f0        f1        f2     product  predicted_product\n",
       "1268  WZPDo -0.326487  0.906874 -0.810567   27.351350          58.080219\n",
       "3878  8fDKM  0.115090  0.242267 -1.064132   86.358950          68.327217\n",
       "5778  fqOSx  1.044243 -0.373455  0.826999  135.979981          93.476445\n",
       "787   LnihI  0.536930 -0.499839  1.585133  101.234625          98.744247\n",
       "4849  9Fhwy -0.066038  0.941207  0.418507   49.847911          66.458058"
      ]
     },
     "execution_count": 70,
     "metadata": {},
     "output_type": "execute_result"
    }
   ],
   "source": [
    "data0_val_results.head()"
   ]
  },
  {
   "cell_type": "markdown",
   "id": "7ff12a68",
   "metadata": {},
   "source": [
    "I had all 3 datasets predict on linear regression and copied their results to 3 new data sets"
   ]
  },
  {
   "cell_type": "code",
   "execution_count": 71,
   "id": "530290f7",
   "metadata": {},
   "outputs": [
    {
     "data": {
      "text/plain": [
       "{'data0': {'average_predicted_volume': np.float64(91.95891333964379),\n",
       "  'rsme': 36.63480393281664},\n",
       " 'data1': {'average_predicted_volume': np.float64(71.08403146347835),\n",
       "  'rsme': 0.8872369470555759},\n",
       " 'data2': {'average_predicted_volume': np.float64(95.17129510459765),\n",
       "  'rsme': 40.37072494809775}}"
      ]
     },
     "execution_count": 71,
     "metadata": {},
     "output_type": "execute_result"
    }
   ],
   "source": [
    "# Average Volumes and RSME\n",
    "results_sumary = {\n",
    "    \"data0\": {\n",
    "        \"average_predicted_volume\": np.mean(pred0),\n",
    "        \"rsme\": root_mean_squared_error(data0_val['product'], pred0)\n",
    "\n",
    "    },\n",
    "    \"data1\": {\n",
    "        \"average_predicted_volume\": np.mean(pred1),\n",
    "        \"rsme\": root_mean_squared_error(data1_val['product'], pred1)\n",
    "    },\n",
    "\n",
    "    \"data2\": {\n",
    "        \"average_predicted_volume\": np.mean(pred2),\n",
    "        \"rsme\": root_mean_squared_error(data2_val['product'], pred2)\n",
    "    }\n",
    "}\n",
    "\n",
    "results_sumary"
   ]
  },
  {
   "cell_type": "markdown",
   "id": "723a64cd",
   "metadata": {},
   "source": [
    "Ive found the average volumes and predicted reserves for the 3 models and that has offered us some insight. data0 shows moderate error at 36.63 rsme, data1 shows an excellent performance at .89 rsme, and finally data2 shows the worst rsme at 40.15. linear works great on data 1 however the rest dont perform as well. each region from data 0, 1, and 2 has a average predicted volume of 92.40, 68.14, 94.77 respectively and offer insight to 'typical product' values. It might be a good idea to work data0 and data 2 on a more complex model but for now this is what we will work with."
   ]
  },
  {
   "cell_type": "markdown",
   "id": "7d811b5e",
   "metadata": {},
   "source": []
  }
 ],
 "metadata": {
  "kernelspec": {
   "display_name": "Python 3",
   "language": "python",
   "name": "python3"
  },
  "language_info": {
   "codemirror_mode": {
    "name": "ipython",
    "version": 3
   },
   "file_extension": ".py",
   "mimetype": "text/x-python",
   "name": "python",
   "nbconvert_exporter": "python",
   "pygments_lexer": "ipython3",
   "version": "3.13.2"
  }
 },
 "nbformat": 4,
 "nbformat_minor": 5
}
